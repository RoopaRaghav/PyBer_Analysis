{
 "cells": [
  {
   "cell_type": "markdown",
   "id": "30f01479",
   "metadata": {},
   "source": [
    "# Create a bubble chart that showcases the average fare versus the total number of rides with bubble size based on the total number of drivers for each city type, including urban, suburban, and rural."
   ]
  },
  {
   "cell_type": "code",
   "execution_count": 1,
   "id": "eeb95ebc",
   "metadata": {},
   "outputs": [],
   "source": [
    "# Add Matplotlib inline magic command\n",
    "%matplotlib inline\n",
    "# Dependencies and Setup\n",
    "import matplotlib.pyplot as plt\n",
    "import pandas as pd"
   ]
  },
  {
   "cell_type": "code",
   "execution_count": 2,
   "id": "3f2a0888",
   "metadata": {},
   "outputs": [],
   "source": [
    "# Files to load\n",
    "city_data_to_load = \"Resources/city_data.csv\"\n",
    "ride_data_to_load = \"Resources/ride_data.csv\""
   ]
  },
  {
   "cell_type": "code",
   "execution_count": 3,
   "id": "dfc74b6d",
   "metadata": {},
   "outputs": [
    {
     "name": "stdout",
     "output_type": "stream",
     "text": [
      "<class 'pandas.core.frame.DataFrame'>\n",
      "RangeIndex: 120 entries, 0 to 119\n",
      "Data columns (total 3 columns):\n",
      " #   Column        Non-Null Count  Dtype \n",
      "---  ------        --------------  ----- \n",
      " 0   city          120 non-null    object\n",
      " 1   driver_count  120 non-null    int64 \n",
      " 2   type          120 non-null    object\n",
      "dtypes: int64(1), object(2)\n",
      "memory usage: 2.9+ KB\n"
     ]
    }
   ],
   "source": [
    "# Read the city data file and store it in a pandas DataFrame.\n",
    "city_data_df = pd.read_csv(city_data_to_load)\n",
    "city_data_df.head(10)\n",
    "city_data_df.info()"
   ]
  },
  {
   "cell_type": "code",
   "execution_count": 4,
   "id": "8be05540",
   "metadata": {},
   "outputs": [
    {
     "name": "stdout",
     "output_type": "stream",
     "text": [
      "<class 'pandas.core.frame.DataFrame'>\n",
      "RangeIndex: 2375 entries, 0 to 2374\n",
      "Data columns (total 4 columns):\n",
      " #   Column   Non-Null Count  Dtype  \n",
      "---  ------   --------------  -----  \n",
      " 0   city     2375 non-null   object \n",
      " 1   date     2375 non-null   object \n",
      " 2   fare     2375 non-null   float64\n",
      " 3   ride_id  2375 non-null   int64  \n",
      "dtypes: float64(1), int64(1), object(2)\n",
      "memory usage: 74.3+ KB\n"
     ]
    }
   ],
   "source": [
    "# Read the ride data file and store it in a pandas DataFrame.\n",
    "ride_data_df = pd.read_csv(ride_data_to_load)\n",
    "ride_data_df.head(10)\n",
    "ride_data_df.info()\n"
   ]
  },
  {
   "cell_type": "code",
   "execution_count": 5,
   "id": "a6fb5828",
   "metadata": {},
   "outputs": [
    {
     "name": "stdout",
     "output_type": "stream",
     "text": [
      "36\n",
      "18\n"
     ]
    }
   ],
   "source": [
    "city_data_df.count()\n",
    "\n",
    "city_data_df.isnull().sum()\n",
    "city_data_df.dtypes\n",
    "\n",
    "# Get the unique values of the type of city.\n",
    "\n",
    "# sum( == \"urban\")\n",
    "\n",
    "city_data_df[\"type\"].unique()\n",
    "print(sum(city_data_df[\"type\"] == \"Suburban\"))\n",
    "\n",
    "print(sum(city_data_df[\"type\"] == \"Rural\"))"
   ]
  },
  {
   "cell_type": "code",
   "execution_count": 6,
   "id": "401be0f6",
   "metadata": {},
   "outputs": [
    {
     "data": {
      "text/plain": [
       "120"
      ]
     },
     "execution_count": 6,
     "metadata": {},
     "output_type": "execute_result"
    }
   ],
   "source": [
    "ride_data_df.count()\n",
    "ride_data_df.isnull().sum()\n",
    "ride_data_df.dtypes\n",
    "\n",
    "len(ride_data_df[\"city\"].unique())\n"
   ]
  },
  {
   "cell_type": "code",
   "execution_count": 7,
   "id": "45256a16",
   "metadata": {},
   "outputs": [
    {
     "data": {
      "text/html": [
       "<div>\n",
       "<style scoped>\n",
       "    .dataframe tbody tr th:only-of-type {\n",
       "        vertical-align: middle;\n",
       "    }\n",
       "\n",
       "    .dataframe tbody tr th {\n",
       "        vertical-align: top;\n",
       "    }\n",
       "\n",
       "    .dataframe thead th {\n",
       "        text-align: right;\n",
       "    }\n",
       "</style>\n",
       "<table border=\"1\" class=\"dataframe\">\n",
       "  <thead>\n",
       "    <tr style=\"text-align: right;\">\n",
       "      <th></th>\n",
       "      <th>city</th>\n",
       "      <th>date</th>\n",
       "      <th>fare</th>\n",
       "      <th>ride_id</th>\n",
       "      <th>driver_count</th>\n",
       "      <th>type</th>\n",
       "    </tr>\n",
       "  </thead>\n",
       "  <tbody>\n",
       "    <tr>\n",
       "      <th>0</th>\n",
       "      <td>Amandaburgh</td>\n",
       "      <td>2019-03-05 02:15:38</td>\n",
       "      <td>26.28</td>\n",
       "      <td>906850928986</td>\n",
       "      <td>12</td>\n",
       "      <td>Urban</td>\n",
       "    </tr>\n",
       "    <tr>\n",
       "      <th>1</th>\n",
       "      <td>Amandaburgh</td>\n",
       "      <td>2019-02-24 23:10:49</td>\n",
       "      <td>43.66</td>\n",
       "      <td>6573820412437</td>\n",
       "      <td>12</td>\n",
       "      <td>Urban</td>\n",
       "    </tr>\n",
       "    <tr>\n",
       "      <th>2</th>\n",
       "      <td>Amandaburgh</td>\n",
       "      <td>2019-02-10 20:42:46</td>\n",
       "      <td>36.17</td>\n",
       "      <td>6455620849753</td>\n",
       "      <td>12</td>\n",
       "      <td>Urban</td>\n",
       "    </tr>\n",
       "    <tr>\n",
       "      <th>3</th>\n",
       "      <td>Amandaburgh</td>\n",
       "      <td>2019-01-11 02:22:07</td>\n",
       "      <td>29.24</td>\n",
       "      <td>7279902884763</td>\n",
       "      <td>12</td>\n",
       "      <td>Urban</td>\n",
       "    </tr>\n",
       "    <tr>\n",
       "      <th>4</th>\n",
       "      <td>Amandaburgh</td>\n",
       "      <td>2019-01-21 04:12:54</td>\n",
       "      <td>9.26</td>\n",
       "      <td>5528427024492</td>\n",
       "      <td>12</td>\n",
       "      <td>Urban</td>\n",
       "    </tr>\n",
       "  </tbody>\n",
       "</table>\n",
       "</div>"
      ],
      "text/plain": [
       "          city                 date   fare        ride_id  driver_count   type\n",
       "0  Amandaburgh  2019-03-05 02:15:38  26.28   906850928986            12  Urban\n",
       "1  Amandaburgh  2019-02-24 23:10:49  43.66  6573820412437            12  Urban\n",
       "2  Amandaburgh  2019-02-10 20:42:46  36.17  6455620849753            12  Urban\n",
       "3  Amandaburgh  2019-01-11 02:22:07  29.24  7279902884763            12  Urban\n",
       "4  Amandaburgh  2019-01-21 04:12:54   9.26  5528427024492            12  Urban"
      ]
     },
     "execution_count": 7,
     "metadata": {},
     "output_type": "execute_result"
    }
   ],
   "source": [
    "# Combine the data into a single dataset\n",
    "pyber_data_df = pd.merge(ride_data_df, city_data_df, how=\"left\", on=[\"city\", \"city\"], sort=True)\n",
    "\n",
    "# Display the DataFrame\n",
    "pyber_data_df.head(5)"
   ]
  },
  {
   "cell_type": "code",
   "execution_count": 8,
   "id": "4fee30af",
   "metadata": {},
   "outputs": [],
   "source": [
    "suburban_count = sum(city_data_df[\"type\"] == \"Suburban\")\n",
    "rural_count = sum(city_data_df[\"type\"] == \"Rural\")\n",
    "urban_count = sum(city_data_df[\"type\"] == \"Urban\")\n"
   ]
  },
  {
   "cell_type": "code",
   "execution_count": 9,
   "id": "8b063fc9",
   "metadata": {},
   "outputs": [
    {
     "data": {
      "text/html": [
       "<div>\n",
       "<style scoped>\n",
       "    .dataframe tbody tr th:only-of-type {\n",
       "        vertical-align: middle;\n",
       "    }\n",
       "\n",
       "    .dataframe tbody tr th {\n",
       "        vertical-align: top;\n",
       "    }\n",
       "\n",
       "    .dataframe thead th {\n",
       "        text-align: right;\n",
       "    }\n",
       "</style>\n",
       "<table border=\"1\" class=\"dataframe\">\n",
       "  <thead>\n",
       "    <tr style=\"text-align: right;\">\n",
       "      <th></th>\n",
       "      <th>city</th>\n",
       "      <th>date</th>\n",
       "      <th>fare</th>\n",
       "      <th>ride_id</th>\n",
       "      <th>driver_count</th>\n",
       "      <th>type</th>\n",
       "    </tr>\n",
       "  </thead>\n",
       "  <tbody>\n",
       "    <tr>\n",
       "      <th>0</th>\n",
       "      <td>Amandaburgh</td>\n",
       "      <td>2019-03-05 02:15:38</td>\n",
       "      <td>26.28</td>\n",
       "      <td>906850928986</td>\n",
       "      <td>12</td>\n",
       "      <td>Urban</td>\n",
       "    </tr>\n",
       "    <tr>\n",
       "      <th>1</th>\n",
       "      <td>Amandaburgh</td>\n",
       "      <td>2019-02-24 23:10:49</td>\n",
       "      <td>43.66</td>\n",
       "      <td>6573820412437</td>\n",
       "      <td>12</td>\n",
       "      <td>Urban</td>\n",
       "    </tr>\n",
       "    <tr>\n",
       "      <th>2</th>\n",
       "      <td>Amandaburgh</td>\n",
       "      <td>2019-02-10 20:42:46</td>\n",
       "      <td>36.17</td>\n",
       "      <td>6455620849753</td>\n",
       "      <td>12</td>\n",
       "      <td>Urban</td>\n",
       "    </tr>\n",
       "    <tr>\n",
       "      <th>3</th>\n",
       "      <td>Amandaburgh</td>\n",
       "      <td>2019-01-11 02:22:07</td>\n",
       "      <td>29.24</td>\n",
       "      <td>7279902884763</td>\n",
       "      <td>12</td>\n",
       "      <td>Urban</td>\n",
       "    </tr>\n",
       "    <tr>\n",
       "      <th>4</th>\n",
       "      <td>Amandaburgh</td>\n",
       "      <td>2019-01-21 04:12:54</td>\n",
       "      <td>9.26</td>\n",
       "      <td>5528427024492</td>\n",
       "      <td>12</td>\n",
       "      <td>Urban</td>\n",
       "    </tr>\n",
       "  </tbody>\n",
       "</table>\n",
       "</div>"
      ],
      "text/plain": [
       "          city                 date   fare        ride_id  driver_count   type\n",
       "0  Amandaburgh  2019-03-05 02:15:38  26.28   906850928986            12  Urban\n",
       "1  Amandaburgh  2019-02-24 23:10:49  43.66  6573820412437            12  Urban\n",
       "2  Amandaburgh  2019-02-10 20:42:46  36.17  6455620849753            12  Urban\n",
       "3  Amandaburgh  2019-01-11 02:22:07  29.24  7279902884763            12  Urban\n",
       "4  Amandaburgh  2019-01-21 04:12:54   9.26  5528427024492            12  Urban"
      ]
     },
     "execution_count": 9,
     "metadata": {},
     "output_type": "execute_result"
    }
   ],
   "source": [
    "# Create the Urban city DataFrame.\n",
    "urban_cities_df = pyber_data_df[pyber_data_df[\"type\"] == \"Urban\"]\n",
    "urban_cities_df.head()"
   ]
  },
  {
   "cell_type": "code",
   "execution_count": 10,
   "id": "e9cac313",
   "metadata": {},
   "outputs": [
    {
     "data": {
      "text/html": [
       "<div>\n",
       "<style scoped>\n",
       "    .dataframe tbody tr th:only-of-type {\n",
       "        vertical-align: middle;\n",
       "    }\n",
       "\n",
       "    .dataframe tbody tr th {\n",
       "        vertical-align: top;\n",
       "    }\n",
       "\n",
       "    .dataframe thead th {\n",
       "        text-align: right;\n",
       "    }\n",
       "</style>\n",
       "<table border=\"1\" class=\"dataframe\">\n",
       "  <thead>\n",
       "    <tr style=\"text-align: right;\">\n",
       "      <th></th>\n",
       "      <th>city</th>\n",
       "      <th>date</th>\n",
       "      <th>fare</th>\n",
       "      <th>ride_id</th>\n",
       "      <th>driver_count</th>\n",
       "      <th>type</th>\n",
       "    </tr>\n",
       "  </thead>\n",
       "  <tbody>\n",
       "    <tr>\n",
       "      <th>40</th>\n",
       "      <td>Barronchester</td>\n",
       "      <td>2019-01-27 03:08:01</td>\n",
       "      <td>27.79</td>\n",
       "      <td>6653622887913</td>\n",
       "      <td>11</td>\n",
       "      <td>Suburban</td>\n",
       "    </tr>\n",
       "    <tr>\n",
       "      <th>41</th>\n",
       "      <td>Barronchester</td>\n",
       "      <td>2019-05-05 04:03:11</td>\n",
       "      <td>30.38</td>\n",
       "      <td>2281522828169</td>\n",
       "      <td>11</td>\n",
       "      <td>Suburban</td>\n",
       "    </tr>\n",
       "    <tr>\n",
       "      <th>42</th>\n",
       "      <td>Barronchester</td>\n",
       "      <td>2019-04-25 19:11:43</td>\n",
       "      <td>36.13</td>\n",
       "      <td>2660177707065</td>\n",
       "      <td>11</td>\n",
       "      <td>Suburban</td>\n",
       "    </tr>\n",
       "    <tr>\n",
       "      <th>43</th>\n",
       "      <td>Barronchester</td>\n",
       "      <td>2019-03-31 06:05:30</td>\n",
       "      <td>44.24</td>\n",
       "      <td>1252888806772</td>\n",
       "      <td>11</td>\n",
       "      <td>Suburban</td>\n",
       "    </tr>\n",
       "    <tr>\n",
       "      <th>44</th>\n",
       "      <td>Barronchester</td>\n",
       "      <td>2019-03-02 23:36:58</td>\n",
       "      <td>36.49</td>\n",
       "      <td>4031573980778</td>\n",
       "      <td>11</td>\n",
       "      <td>Suburban</td>\n",
       "    </tr>\n",
       "  </tbody>\n",
       "</table>\n",
       "</div>"
      ],
      "text/plain": [
       "             city                 date   fare        ride_id  driver_count  \\\n",
       "40  Barronchester  2019-01-27 03:08:01  27.79  6653622887913            11   \n",
       "41  Barronchester  2019-05-05 04:03:11  30.38  2281522828169            11   \n",
       "42  Barronchester  2019-04-25 19:11:43  36.13  2660177707065            11   \n",
       "43  Barronchester  2019-03-31 06:05:30  44.24  1252888806772            11   \n",
       "44  Barronchester  2019-03-02 23:36:58  36.49  4031573980778            11   \n",
       "\n",
       "        type  \n",
       "40  Suburban  \n",
       "41  Suburban  \n",
       "42  Suburban  \n",
       "43  Suburban  \n",
       "44  Suburban  "
      ]
     },
     "execution_count": 10,
     "metadata": {},
     "output_type": "execute_result"
    }
   ],
   "source": [
    "# Create the Urban city DataFrame.\n",
    "suburban_cities_df = pyber_data_df[pyber_data_df[\"type\"] == \"Suburban\"]\n",
    "suburban_cities_df.head()"
   ]
  },
  {
   "cell_type": "code",
   "execution_count": 11,
   "id": "5fdad382",
   "metadata": {},
   "outputs": [
    {
     "data": {
      "text/html": [
       "<div>\n",
       "<style scoped>\n",
       "    .dataframe tbody tr th:only-of-type {\n",
       "        vertical-align: middle;\n",
       "    }\n",
       "\n",
       "    .dataframe tbody tr th {\n",
       "        vertical-align: top;\n",
       "    }\n",
       "\n",
       "    .dataframe thead th {\n",
       "        text-align: right;\n",
       "    }\n",
       "</style>\n",
       "<table border=\"1\" class=\"dataframe\">\n",
       "  <thead>\n",
       "    <tr style=\"text-align: right;\">\n",
       "      <th></th>\n",
       "      <th>city</th>\n",
       "      <th>date</th>\n",
       "      <th>fare</th>\n",
       "      <th>ride_id</th>\n",
       "      <th>driver_count</th>\n",
       "      <th>type</th>\n",
       "    </tr>\n",
       "  </thead>\n",
       "  <tbody>\n",
       "    <tr>\n",
       "      <th>74</th>\n",
       "      <td>Bradshawfurt</td>\n",
       "      <td>2019-03-06 21:44:53</td>\n",
       "      <td>19.74</td>\n",
       "      <td>6080367372860</td>\n",
       "      <td>7</td>\n",
       "      <td>Rural</td>\n",
       "    </tr>\n",
       "    <tr>\n",
       "      <th>75</th>\n",
       "      <td>Bradshawfurt</td>\n",
       "      <td>2019-03-24 18:53:18</td>\n",
       "      <td>57.51</td>\n",
       "      <td>2301998876294</td>\n",
       "      <td>7</td>\n",
       "      <td>Rural</td>\n",
       "    </tr>\n",
       "    <tr>\n",
       "      <th>76</th>\n",
       "      <td>Bradshawfurt</td>\n",
       "      <td>2019-03-24 07:34:03</td>\n",
       "      <td>19.89</td>\n",
       "      <td>7867402022145</td>\n",
       "      <td>7</td>\n",
       "      <td>Rural</td>\n",
       "    </tr>\n",
       "    <tr>\n",
       "      <th>77</th>\n",
       "      <td>Bradshawfurt</td>\n",
       "      <td>2019-02-18 22:21:26</td>\n",
       "      <td>34.32</td>\n",
       "      <td>8881996813087</td>\n",
       "      <td>7</td>\n",
       "      <td>Rural</td>\n",
       "    </tr>\n",
       "    <tr>\n",
       "      <th>78</th>\n",
       "      <td>Bradshawfurt</td>\n",
       "      <td>2019-04-08 13:46:03</td>\n",
       "      <td>55.19</td>\n",
       "      <td>1742954306812</td>\n",
       "      <td>7</td>\n",
       "      <td>Rural</td>\n",
       "    </tr>\n",
       "  </tbody>\n",
       "</table>\n",
       "</div>"
      ],
      "text/plain": [
       "            city                 date   fare        ride_id  driver_count  \\\n",
       "74  Bradshawfurt  2019-03-06 21:44:53  19.74  6080367372860             7   \n",
       "75  Bradshawfurt  2019-03-24 18:53:18  57.51  2301998876294             7   \n",
       "76  Bradshawfurt  2019-03-24 07:34:03  19.89  7867402022145             7   \n",
       "77  Bradshawfurt  2019-02-18 22:21:26  34.32  8881996813087             7   \n",
       "78  Bradshawfurt  2019-04-08 13:46:03  55.19  1742954306812             7   \n",
       "\n",
       "     type  \n",
       "74  Rural  \n",
       "75  Rural  \n",
       "76  Rural  \n",
       "77  Rural  \n",
       "78  Rural  "
      ]
     },
     "execution_count": 11,
     "metadata": {},
     "output_type": "execute_result"
    }
   ],
   "source": [
    "# Create the Urban city DataFrame.\n",
    "rural_cities_df = pyber_data_df[pyber_data_df[\"type\"] == \"Rural\"]\n",
    "rural_cities_df.head()"
   ]
  },
  {
   "cell_type": "code",
   "execution_count": 49,
   "id": "137d46c8",
   "metadata": {},
   "outputs": [
    {
     "data": {
      "image/png": "[encoded data removed]",
      "text/plain": [
       "<Figure size 720x432 with 1 Axes>"
      ]
     },
     "metadata": {
      "needs_background": "light"
     },
     "output_type": "display_data"
    },
    {
     "data": {
      "text/html": [
       "<div>\n",
       "<style scoped>\n",
       "    .dataframe tbody tr th:only-of-type {\n",
       "        vertical-align: middle;\n",
       "    }\n",
       "\n",
       "    .dataframe tbody tr th {\n",
       "        vertical-align: top;\n",
       "    }\n",
       "\n",
       "    .dataframe thead th {\n",
       "        text-align: right;\n",
       "    }\n",
       "</style>\n",
       "<table border=\"1\" class=\"dataframe\">\n",
       "  <thead>\n",
       "    <tr style=\"text-align: right;\">\n",
       "      <th></th>\n",
       "      <th>city</th>\n",
       "      <th>date</th>\n",
       "      <th>fare</th>\n",
       "      <th>ride_id</th>\n",
       "      <th>driver_count</th>\n",
       "      <th>type</th>\n",
       "    </tr>\n",
       "  </thead>\n",
       "  <tbody>\n",
       "    <tr>\n",
       "      <th>0</th>\n",
       "      <td>Amandaburgh</td>\n",
       "      <td>2019-03-05 02:15:38</td>\n",
       "      <td>26.28</td>\n",
       "      <td>906850928986</td>\n",
       "      <td>12</td>\n",
       "      <td>Urban</td>\n",
       "    </tr>\n",
       "    <tr>\n",
       "      <th>1</th>\n",
       "      <td>Amandaburgh</td>\n",
       "      <td>2019-02-24 23:10:49</td>\n",
       "      <td>43.66</td>\n",
       "      <td>6573820412437</td>\n",
       "      <td>12</td>\n",
       "      <td>Urban</td>\n",
       "    </tr>\n",
       "    <tr>\n",
       "      <th>2</th>\n",
       "      <td>Amandaburgh</td>\n",
       "      <td>2019-02-10 20:42:46</td>\n",
       "      <td>36.17</td>\n",
       "      <td>6455620849753</td>\n",
       "      <td>12</td>\n",
       "      <td>Urban</td>\n",
       "    </tr>\n",
       "    <tr>\n",
       "      <th>3</th>\n",
       "      <td>Amandaburgh</td>\n",
       "      <td>2019-01-11 02:22:07</td>\n",
       "      <td>29.24</td>\n",
       "      <td>7279902884763</td>\n",
       "      <td>12</td>\n",
       "      <td>Urban</td>\n",
       "    </tr>\n",
       "    <tr>\n",
       "      <th>4</th>\n",
       "      <td>Amandaburgh</td>\n",
       "      <td>2019-01-21 04:12:54</td>\n",
       "      <td>9.26</td>\n",
       "      <td>5528427024492</td>\n",
       "      <td>12</td>\n",
       "      <td>Urban</td>\n",
       "    </tr>\n",
       "    <tr>\n",
       "      <th>...</th>\n",
       "      <td>...</td>\n",
       "      <td>...</td>\n",
       "      <td>...</td>\n",
       "      <td>...</td>\n",
       "      <td>...</td>\n",
       "      <td>...</td>\n",
       "    </tr>\n",
       "    <tr>\n",
       "      <th>2370</th>\n",
       "      <td>Williamsview</td>\n",
       "      <td>2019-02-18 02:31:18</td>\n",
       "      <td>18.75</td>\n",
       "      <td>4148427600673</td>\n",
       "      <td>46</td>\n",
       "      <td>Urban</td>\n",
       "    </tr>\n",
       "    <tr>\n",
       "      <th>2371</th>\n",
       "      <td>Williamsview</td>\n",
       "      <td>2019-01-01 14:40:14</td>\n",
       "      <td>5.42</td>\n",
       "      <td>5676167585855</td>\n",
       "      <td>46</td>\n",
       "      <td>Urban</td>\n",
       "    </tr>\n",
       "    <tr>\n",
       "      <th>2372</th>\n",
       "      <td>Williamsview</td>\n",
       "      <td>2019-03-22 22:31:26</td>\n",
       "      <td>15.85</td>\n",
       "      <td>8549525496025</td>\n",
       "      <td>46</td>\n",
       "      <td>Urban</td>\n",
       "    </tr>\n",
       "    <tr>\n",
       "      <th>2373</th>\n",
       "      <td>Williamsview</td>\n",
       "      <td>2019-01-17 04:00:01</td>\n",
       "      <td>32.29</td>\n",
       "      <td>7451578628999</td>\n",
       "      <td>46</td>\n",
       "      <td>Urban</td>\n",
       "    </tr>\n",
       "    <tr>\n",
       "      <th>2374</th>\n",
       "      <td>Williamsview</td>\n",
       "      <td>2019-04-18 02:07:15</td>\n",
       "      <td>39.79</td>\n",
       "      <td>8745531941706</td>\n",
       "      <td>46</td>\n",
       "      <td>Urban</td>\n",
       "    </tr>\n",
       "  </tbody>\n",
       "</table>\n",
       "<p>1625 rows × 6 columns</p>\n",
       "</div>"
      ],
      "text/plain": [
       "              city                 date   fare        ride_id  driver_count  \\\n",
       "0      Amandaburgh  2019-03-05 02:15:38  26.28   906850928986            12   \n",
       "1      Amandaburgh  2019-02-24 23:10:49  43.66  6573820412437            12   \n",
       "2      Amandaburgh  2019-02-10 20:42:46  36.17  6455620849753            12   \n",
       "3      Amandaburgh  2019-01-11 02:22:07  29.24  7279902884763            12   \n",
       "4      Amandaburgh  2019-01-21 04:12:54   9.26  5528427024492            12   \n",
       "...            ...                  ...    ...            ...           ...   \n",
       "2370  Williamsview  2019-02-18 02:31:18  18.75  4148427600673            46   \n",
       "2371  Williamsview  2019-01-01 14:40:14   5.42  5676167585855            46   \n",
       "2372  Williamsview  2019-03-22 22:31:26  15.85  8549525496025            46   \n",
       "2373  Williamsview  2019-01-17 04:00:01  32.29  7451578628999            46   \n",
       "2374  Williamsview  2019-04-18 02:07:15  39.79  8745531941706            46   \n",
       "\n",
       "       type  \n",
       "0     Urban  \n",
       "1     Urban  \n",
       "2     Urban  \n",
       "3     Urban  \n",
       "4     Urban  \n",
       "...     ...  \n",
       "2370  Urban  \n",
       "2371  Urban  \n",
       "2372  Urban  \n",
       "2373  Urban  \n",
       "2374  Urban  \n",
       "\n",
       "[1625 rows x 6 columns]"
      ]
     },
     "execution_count": 49,
     "metadata": {},
     "output_type": "execute_result"
    }
   ],
   "source": [
    "# The average fare for each type of city on the y-axis\n",
    "# The total number of rides for each type of city on the x-axis\n",
    "# Make the size of each marker, or bubble, correlate to the average number of drivers for each type of city\n",
    "# Here are the steps to create a bubble chart:\n",
    "\n",
    "# To get the average fare, we can use the Pandas mean() method for each city in the \"fare\" column.\n",
    "# To get the total number of rides for each city, we can use the Pandas count() method for each city in the \"ride_id\" column.\n",
    "# To make the bubble size correlate to the number of drivers for each city, we can get the average driver_count for each city.\n",
    "\n",
    "\n",
    "\n",
    "\n",
    "# Get the number of rides for urban cities.\n",
    "urban_ride_count = urban_cities_df.groupby([\"city\"]).count()[\"ride_id\"]\n",
    "urban_ride_count.head(20)\n",
    "\n",
    "\n",
    "# Get the number of rides for Sub urban cities.\n",
    "suburban_ride_count = suburban_cities_df.groupby([\"city\"]).count()[\"ride_id\"]\n",
    "suburban_ride_count.head(20)\n",
    "\n",
    "\n",
    "# Get the number of rides for Rural cities.\n",
    "rural_ride_count = rural_cities_df.groupby([\"city\"]).count()[\"ride_id\"]\n",
    "rural_ride_count.head(20)\n",
    "\n",
    "\n",
    "\n",
    "# Get the number of rides for urban cities.\n",
    "urban_ride_average = urban_cities_df.groupby([\"city\"]).mean()[\"fare\"]\n",
    "urban_ride_average.head(20)\n",
    "\n",
    "\n",
    "# Get the number of rides forSub urban cities.\n",
    "suburban_ride_average = suburban_cities_df.groupby([\"city\"]).mean()[\"fare\"]\n",
    "suburban_ride_average.head(20)\n",
    "\n",
    "\n",
    "# Get the number of rides for Rural cities.\n",
    "rural_ride_average = rural_cities_df.groupby([\"city\"]).mean()[\"fare\"]\n",
    "rural_ride_average.head(20)\n",
    "\n",
    "\n",
    "# Get the number of rides for urban cities.\n",
    "urban_ride_driver_average = urban_cities_df.groupby([\"city\"]).mean()[\"driver_count\"]\n",
    "urban_ride_driver_average.head(20)\n",
    "\n",
    "\n",
    "# Get the number of rides forSub urban cities.\n",
    "suburban_ride_driver_average = suburban_cities_df.groupby([\"city\"]).mean()[\"driver_count\"]\n",
    "suburban_ride_driver_average.head(20)\n",
    "\n",
    "\n",
    "# Get the number of rides for Rural cities.\n",
    "rural_ride_driver_average = rural_cities_df.groupby([\"city\"]).mean()[\"driver_count\"]\n",
    "rural_ride_driver_average.head(20)\n",
    "\n",
    "plt.subplots(figsize=(10, 6))\n",
    "plt.scatter(x= rural_ride_driver_average, y =rural_ride_average , s=rural_ride_count *5,\n",
    "           c=\"gold\",\n",
    "      edgecolor=\"black\", linewidths=1,\n",
    "      alpha=0.8, label=\"Rural\")\n",
    "\n",
    "plt.scatter(x= suburban_ride_driver_average, y =suburban_ride_average , s=suburban_ride_count *5,\n",
    "           c=\"skyblue\",\n",
    "      edgecolor=\"black\", linewidths=1,\n",
    "      alpha=0.8, label=\"Suburban\")\n",
    "plt.scatter(x= urban_ride_driver_average, y =urban_ride_average, s= urban_ride_count *5,\n",
    "            c=\"coral\",\n",
    "      edgecolor=\"black\", linewidths=1,\n",
    "      alpha=0.8, label=\"Urban\")\n",
    "\n",
    "\n",
    "\n",
    "#  Incorporate the other graph properties\n",
    "plt.title(\"PyBer Ride-Sharing Data (2019)\", fontsize=20)\n",
    "plt.ylabel(\"Average Fare ($)\", fontsize=12)\n",
    "plt.xlabel(\"Total Number of Rides (Per City)\", fontsize=12)\n",
    "plt.grid(True)\n",
    "\n",
    "# Add the legend.\n",
    "plt.legend()\n",
    "# Show the plot\n",
    "\n",
    "# Create a legend\n",
    "lgnd = plt.legend(fontsize=\"12\", mode=\"Expanded\",\n",
    "         scatterpoints=1, loc=\"best\", title=\"City Types\")\n",
    "lgnd.legendHandles[0]._sizes = [75]\n",
    "lgnd.legendHandles[1]._sizes = [75]\n",
    "lgnd.legendHandles[2]._sizes = [75]\n",
    "lgnd.get_title().set_fontsize(12)\n",
    "\n",
    "\n",
    "# Incorporate a text label about circle size.\n",
    "plt.text(42, 30, \"Note: Circle size correlates with driver count per city.\", fontsize=\"12\")\n",
    "\n",
    "\n",
    "# Save the figure.\n",
    "plt.savefig(\"analysis/Fig1.png\")\n",
    "\n",
    "plt.show()\n",
    "\n",
    "urban_cities_df"
   ]
  },
  {
   "cell_type": "markdown",
   "id": "ff49398d",
   "metadata": {},
   "source": [
    "# Summary Statistics for Number of Rides by City Type"
   ]
  },
  {
   "cell_type": "code",
   "execution_count": 13,
   "id": "bfdbc5f4",
   "metadata": {},
   "outputs": [
    {
     "data": {
      "text/plain": [
       "24.0"
      ]
     },
     "execution_count": 13,
     "metadata": {},
     "output_type": "execute_result"
    }
   ],
   "source": [
    "# Get summary statistics.\n",
    "urban_ride_count.describe()\n",
    "urban_ride_count.median()"
   ]
  },
  {
   "cell_type": "code",
   "execution_count": 14,
   "id": "8dc5bdff",
   "metadata": {},
   "outputs": [
    {
     "data": {
      "text/plain": [
       "0    17\n",
       "Name: ride_id, dtype: int64"
      ]
     },
     "execution_count": 14,
     "metadata": {},
     "output_type": "execute_result"
    }
   ],
   "source": [
    "# Get summary statistics.\n",
    "suburban_ride_count.describe()\n",
    "suburban_ride_count.median()\n",
    "suburban_ride_count.mode()"
   ]
  },
  {
   "cell_type": "code",
   "execution_count": 15,
   "id": "4bf98d5b",
   "metadata": {},
   "outputs": [
    {
     "data": {
      "text/plain": [
       "count    18.000000\n",
       "mean      6.944444\n",
       "std       2.508157\n",
       "min       3.000000\n",
       "25%       5.250000\n",
       "50%       6.000000\n",
       "75%       8.750000\n",
       "max      12.000000\n",
       "Name: ride_id, dtype: float64"
      ]
     },
     "execution_count": 15,
     "metadata": {},
     "output_type": "execute_result"
    }
   ],
   "source": [
    "# Get summary statistics.\n",
    "rural_ride_count.describe()"
   ]
  },
  {
   "cell_type": "markdown",
   "id": "f05014ac",
   "metadata": {},
   "source": [
    "## Findings: If we compare the average number of rides between each city type, we'll notice that the average number of rides in the rural cities is about 3.5 and 2.5 times lower than urban and suburban cities, respectively."
   ]
  },
  {
   "cell_type": "code",
   "execution_count": 16,
   "id": "4f42dd63",
   "metadata": {},
   "outputs": [
    {
     "name": "stdout",
     "output_type": "stream",
     "text": [
      "The mean for the ride counts for urban trips is 24.62.\n",
      "The median for the ride counts for urban trips is 24.0.\n",
      "The mode for the ride counts for urban trips is ModeResult(mode=array([22], dtype=int64), count=array([7])).\n",
      "The mode for the ride counts for suburban trips is ModeResult(mode=array([17], dtype=int64), count=array([7])).\n",
      "The mode for the ride counts for rural trips is ModeResult(mode=array([6], dtype=int64), count=array([5])).\n"
     ]
    }
   ],
   "source": [
    "# Import NumPy and the stats module from SciPy.\n",
    "import numpy as np\n",
    "import scipy.stats as sts\n",
    "\n",
    "# Calculate the measures of central tendency for the ride count for the urban cities.\n",
    "mean_urban_ride_count = np.mean(urban_ride_count)\n",
    "print(f\"The mean for the ride counts for urban trips is {mean_urban_ride_count:.2f}.\")\n",
    "\n",
    "median_urban_ride_count = np.median(urban_ride_count)\n",
    "print(f\"The median for the ride counts for urban trips is {median_urban_ride_count}.\")\n",
    "\n",
    "mode_urban_ride_count = sts.mode(urban_ride_count)\n",
    "print(f\"The mode for the ride counts for urban trips is {mode_urban_ride_count}.\")\n",
    "\n",
    "mode_suburban_ride_count = sts.mode(suburban_ride_count)\n",
    "print(f\"The mode for the ride counts for suburban trips is {mode_suburban_ride_count}.\")\n",
    "\n",
    "mode_rural_ride_count = sts.mode(rural_ride_count)\n",
    "print(f\"The mode for the ride counts for rural trips is {mode_rural_ride_count}.\")\n",
    "\n"
   ]
  },
  {
   "cell_type": "code",
   "execution_count": 17,
   "id": "897a8470",
   "metadata": {},
   "outputs": [
    {
     "name": "stdout",
     "output_type": "stream",
     "text": [
      "count    1625.000000\n",
      "mean       24.525772\n",
      "std        11.738649\n",
      "min         4.050000\n",
      "25%        14.550000\n",
      "50%        24.640000\n",
      "75%        34.580000\n",
      "max        44.970000\n",
      "Name: fare, dtype: float64\n",
      "count    625.000000\n",
      "mean      30.970128\n",
      "std       10.677508\n",
      "min       12.050000\n",
      "25%       21.970000\n",
      "50%       30.750000\n",
      "75%       39.830000\n",
      "max       49.960000\n",
      "Name: fare, dtype: float64\n",
      "count    125.000000\n",
      "mean      34.623440\n",
      "std       14.558046\n",
      "min       10.110000\n",
      "25%       19.900000\n",
      "50%       37.050000\n",
      "75%       47.070000\n",
      "max       58.550000\n",
      "Name: fare, dtype: float64\n"
     ]
    }
   ],
   "source": [
    "# Get the fares for the urban cities.\n",
    "urban_fares = urban_cities_df[\"fare\"]\n",
    "\n",
    "suburban_fares = suburban_cities_df[\"fare\"]\n",
    "\n",
    "rural_fares = rural_cities_df[\"fare\"]\n",
    "\n",
    "urban_fares.count()\n",
    "urban_fares.dtypes\n",
    "\n",
    "print(urban_fares.describe())\n",
    "\n",
    "print(suburban_fares.describe())\n",
    "\n",
    "print(rural_fares.describe())\n",
    "\n"
   ]
  },
  {
   "cell_type": "code",
   "execution_count": 18,
   "id": "f8fbb737",
   "metadata": {
    "scrolled": true
   },
   "outputs": [
    {
     "name": "stdout",
     "output_type": "stream",
     "text": [
      "count    1625.0\n",
      "mean       37.0\n",
      "std        20.0\n",
      "min         3.0\n",
      "25%        22.0\n",
      "50%        37.0\n",
      "75%        52.0\n",
      "max        73.0\n",
      "Name: driver_count, dtype: float64\n",
      "count    625.0\n",
      "mean      14.0\n",
      "std        8.0\n",
      "min        1.0\n",
      "25%        5.0\n",
      "50%       16.0\n",
      "75%       21.0\n",
      "max       25.0\n",
      "Name: driver_count, dtype: float64\n",
      "count    125.0\n",
      "mean       4.0\n",
      "std        3.0\n",
      "min        1.0\n",
      "25%        1.0\n",
      "50%        4.0\n",
      "75%        7.0\n",
      "max        9.0\n",
      "Name: driver_count, dtype: float64\n"
     ]
    }
   ],
   "source": [
    "# Get the driver count data from the urban cities.\n",
    "urban_drivers = urban_cities_df['driver_count']\n",
    "suburban_drivers = suburban_cities_df['driver_count']\n",
    "rural_drivers = rural_cities_df['driver_count']\n",
    "\n",
    "print(round(urban_drivers.describe()))\n",
    "print(round(suburban_drivers.describe()))\n",
    "print(round(rural_drivers.describe()))"
   ]
  },
  {
   "cell_type": "markdown",
   "id": "bb53f6ac",
   "metadata": {},
   "source": [
    "#Box-and-Whisker Plots for Ride Count Data"
   ]
  },
  {
   "cell_type": "code",
   "execution_count": 19,
   "id": "4ce480f4",
   "metadata": {},
   "outputs": [
    {
     "data": {
      "image/png": "[encoded data removed]",
      "text/plain": [
       "<Figure size 720x432 with 1 Axes>"
      ]
     },
     "metadata": {
      "needs_background": "light"
     },
     "output_type": "display_data"
    }
   ],
   "source": [
    "# Create a box-and-whisker plot for the urban cities ride count.\n",
    "x_labels = [\"Urban\",\"SubUrban\",\"Rural\"]\n",
    "\n",
    "# Add the title, y-axis label and grid.\n",
    "fig, ax = plt.subplots(figsize=(10, 6))\n",
    "\n",
    "plt.yticks(np.arange(0, 45, step=3.0))\n",
    "plt.boxplot(x= [urban_ride_count, suburban_ride_count, rural_ride_count],labels =x_labels)\n",
    "plt.grid()\n",
    "plt.title('Ride Count Data (2019)')\n",
    "plt.ylabel('Number of Rides')\n",
    "plt.xlabel('City Types')\n",
    "# Save the figure.\n",
    "plt.savefig(\"analysis/Fig2.png\")\n",
    "plt.show()"
   ]
  },
  {
   "cell_type": "markdown",
   "id": "e4b5a7dd",
   "metadata": {},
   "source": [
    "## OUTLIERS"
   ]
  },
  {
   "cell_type": "code",
   "execution_count": 20,
   "id": "387ce735",
   "metadata": {},
   "outputs": [
    {
     "name": "stdout",
     "output_type": "stream",
     "text": [
      "West Angela has the highest rider count.\n"
     ]
    }
   ],
   "source": [
    "# Get the city that matches 39.\n",
    "urban_city_outlier = urban_ride_count[urban_ride_count==39].index[0]\n",
    "print(f\"{urban_city_outlier} has the highest rider count.\")"
   ]
  },
  {
   "cell_type": "code",
   "execution_count": 21,
   "id": "9949a44c",
   "metadata": {},
   "outputs": [
    {
     "data": {
      "image/png": "[encoded data removed]",
      "text/plain": [
       "<Figure size 720x432 with 1 Axes>"
      ]
     },
     "metadata": {
      "needs_background": "light"
     },
     "output_type": "display_data"
    }
   ],
   "source": [
    "\n",
    "# Add the title, y-axis label and grid.\n",
    "fig, ax = plt.subplots(figsize=(10, 6))\n",
    "\n",
    "plt.yticks(np.arange(0, 70, step=3.0))\n",
    "plt.boxplot(x= [urban_fares, suburban_fares, rural_fares],labels =x_labels)\n",
    "plt.grid()\n",
    "plt.title('Ride Fare Data (2019)')\n",
    "plt.ylabel('Fare ($USD)')\n",
    "plt.xlabel(\"City Types\")\n",
    "\n",
    "# Save the figure.\n",
    "plt.savefig(\"analysis/Fig3.png\")\n",
    "plt.show()"
   ]
  },
  {
   "cell_type": "code",
   "execution_count": 25,
   "id": "aad65968",
   "metadata": {
    "scrolled": true
   },
   "outputs": [
    {
     "data": {
      "image/png": "[encoded data removed]",
      "text/plain": [
       "<Figure size 720x432 with 1 Axes>"
      ]
     },
     "metadata": {
      "needs_background": "light"
     },
     "output_type": "display_data"
    },
    {
     "name": "stdout",
     "output_type": "stream",
     "text": [
      "Summary Statistics\n",
      "count    1625.000000\n",
      "mean       36.678154\n",
      "std        20.075545\n",
      "min         3.000000\n",
      "25%        22.000000\n",
      "50%        37.000000\n",
      "75%        52.000000\n",
      "max        73.000000\n",
      "Name: driver_count, dtype: float64\n",
      "count    625.000000\n",
      "mean      13.712000\n",
      "std        8.042372\n",
      "min        1.000000\n",
      "25%        5.000000\n",
      "50%       16.000000\n",
      "75%       21.000000\n",
      "max       25.000000\n",
      "Name: driver_count, dtype: float64\n",
      "count    125.000000\n",
      "mean       4.296000\n",
      "std        2.691156\n",
      "min        1.000000\n",
      "25%        1.000000\n",
      "50%        4.000000\n",
      "75%        7.000000\n",
      "max        9.000000\n",
      "Name: driver_count, dtype: float64\n"
     ]
    }
   ],
   "source": [
    "# Create the box-and-whisker plot for the urban driver count data.\n",
    "\n",
    "fig, ax = plt.subplots(figsize =(10,6))\n",
    "x_values = [urban_drivers,suburban_drivers,rural_drivers]\n",
    "\n",
    "\n",
    "x_labels = [\"Urban\",\"SubUrban\",\"Rural\"]\n",
    "ax.boxplot(x_values,labels=x_labels)\n",
    "# Add the title, y-axis label and grid.\n",
    "ax.set_title('Driver Count Data (2019)')\n",
    "ax.set_ylabel('Number of Drivers)')\n",
    "ax.set_ylabel('City Types)')\n",
    "ax.set_yticks(np.arange(0, 90, step=5.0))\n",
    "ax.grid()\n",
    "plt.show()\n",
    "\n",
    "\n",
    "print(\"Summary Statistics\")\n",
    "print(urban_drivers.describe())\n",
    "print(suburban_drivers.describe())\n",
    "print(rural_drivers.describe())\n"
   ]
  },
  {
   "cell_type": "markdown",
   "id": "68ce483d",
   "metadata": {},
   "source": [
    "\n",
    "# Get the Percentage of Fares for Each City Type"
   ]
  },
  {
   "cell_type": "code",
   "execution_count": 26,
   "id": "24adb548",
   "metadata": {},
   "outputs": [
    {
     "data": {
      "text/plain": [
       "type\n",
       "Rural        4327.93\n",
       "Suburban    19356.33\n",
       "Urban       39854.38\n",
       "Name: fare, dtype: float64"
      ]
     },
     "execution_count": 26,
     "metadata": {},
     "output_type": "execute_result"
    }
   ],
   "source": [
    "# Get the sum of the fares for each city type.\n",
    "sum_fares_by_type = pyber_data_df.groupby([\"type\"]).sum()[\"fare\"]\n",
    "sum_fares_by_type"
   ]
  },
  {
   "cell_type": "code",
   "execution_count": 32,
   "id": "d1be1d28",
   "metadata": {},
   "outputs": [
    {
     "data": {
      "text/plain": [
       "63538.64"
      ]
     },
     "execution_count": 32,
     "metadata": {},
     "output_type": "execute_result"
    }
   ],
   "source": [
    "# Calculate the total fares of each city type\n",
    "total_fares = sum(pyber_data_df.groupby([\"type\"]).sum()[\"fare\"])\n",
    "total_fares"
   ]
  },
  {
   "cell_type": "code",
   "execution_count": 33,
   "id": "c136cb10",
   "metadata": {},
   "outputs": [
    {
     "data": {
      "text/plain": [
       "type\n",
       "Rural        6.811493\n",
       "Suburban    30.463872\n",
       "Urban       62.724635\n",
       "Name: fare, dtype: float64"
      ]
     },
     "execution_count": 33,
     "metadata": {},
     "output_type": "execute_result"
    }
   ],
   "source": [
    "#Percentage of fares for each city type\n",
    "\n",
    "# Calculate the percentage of fare for each city type.\n",
    "type_percents = 100 * sum_fares_by_type / total_fares\n",
    "type_percents\n",
    "\n",
    "# OR\n",
    "# # Calculate the percentage of fare for each city type.\n",
    "# type_percents = 100 * pyber_data_df.groupby([\"type\"]).sum()[\"fare\"] / pyber_data_df[\"fare\"].sum()\n",
    "# type_percents"
   ]
  },
  {
   "cell_type": "code",
   "execution_count": 38,
   "id": "4981d3e8",
   "metadata": {
    "scrolled": true
   },
   "outputs": [
    {
     "data": {
      "image/png": "[encoded data removed]",
      "text/plain": [
       "<Figure size 432x288 with 1 Axes>"
      ]
     },
     "metadata": {},
     "output_type": "display_data"
    }
   ],
   "source": [
    "# Build the percentage of fares by city type pie chart.\n",
    "plt.pie(type_percents, labels=[\"Rural\", \"Suburban\", \"Urban\"],\n",
    "        colors=[\"gold\", \"lightskyblue\", \"lightcoral\"],\n",
    "    explode=[0, 0, 0.1],\n",
    "    autopct='%1.1f%%',\n",
    "    shadow=True, startangle=150)\n",
    "plt.title(\"% of Total Fares by City Type\")\n",
    "\n",
    "# Import mpl to change the plot configurations using rcParams.\n",
    "import matplotlib as mpl\n",
    "\n",
    "# Change the default font size from 10 to 14.\n",
    "mpl.rcParams['font.size'] = 20\n",
    "# Save Figure\n",
    "plt.savefig(\"analysis/Fig5.png\")\n",
    "\n",
    "plt.show()"
   ]
  },
  {
   "cell_type": "markdown",
   "id": "f053a046",
   "metadata": {},
   "source": [
    "# the percentage of total rides by city type and the percentage of total drivers by city type.\n",
    "\n",
    "\n"
   ]
  },
  {
   "cell_type": "code",
   "execution_count": 43,
   "id": "e662a4a5",
   "metadata": {},
   "outputs": [
    {
     "data": {
      "text/plain": [
       "type\n",
       "Rural        0.781557\n",
       "Suburban    12.472893\n",
       "Urban       86.745550\n",
       "Name: driver_count, dtype: float64"
      ]
     },
     "execution_count": 43,
     "metadata": {},
     "output_type": "execute_result"
    }
   ],
   "source": [
    "# Get the sum of the drivers for each city type.\n",
    "sum_rides_by_type = pyber_data_df.groupby([\"type\"]).sum()[\"driver_count\"]\n",
    "sum_rides_by_type\n",
    "\n",
    "total_rides_by_type = sum(pyber_data_df.groupby([\"type\"]).sum()[\"driver_count\"])\n",
    "total_rides_by_type\n",
    "\n",
    "total_rides_percentage = sum_rides_by_type/total_rides_by_type*100\n",
    "total_rides_percentage\n"
   ]
  },
  {
   "cell_type": "code",
   "execution_count": 44,
   "id": "41abe08f",
   "metadata": {},
   "outputs": [
    {
     "data": {
      "image/png": "[encoded data removed]",
      "text/plain": [
       "<Figure size 432x288 with 1 Axes>"
      ]
     },
     "metadata": {},
     "output_type": "display_data"
    }
   ],
   "source": [
    "#  Build the percentage of fares by city type pie chart.\n",
    "plt.pie(total_rides_percentage, labels=[\"Rural\", \"Suburban\", \"Urban\"],\n",
    "        colors=[\"gold\", \"lightskyblue\", \"lightcoral\"],\n",
    "    explode=[0, 0, 0.1],\n",
    "    autopct='%1.1f%%',\n",
    "    shadow=True, startangle=150)\n",
    "plt.title(\"% of Total Drivers by City Type\")\n",
    "\n",
    "# Import mpl to change the plot configurations using rcParams.\n",
    "import matplotlib as mpl\n",
    "\n",
    "# Change the default font size from 10 to 14.\n",
    "mpl.rcParams['font.size'] = 20\n",
    "# Save Figure\n",
    "plt.savefig(\"analysis/Fig6.png\")\n",
    "\n",
    "plt.show()"
   ]
  },
  {
   "cell_type": "code",
   "execution_count": 55,
   "id": "e958250a",
   "metadata": {
    "scrolled": true
   },
   "outputs": [
    {
     "data": {
      "image/png": "[encoded data removed]",
      "text/plain": [
       "<Figure size 432x288 with 1 Axes>"
      ]
     },
     "metadata": {},
     "output_type": "display_data"
    },
    {
     "name": "stdout",
     "output_type": "stream",
     "text": [
      "type\n",
      "Rural        125\n",
      "Suburban     625\n",
      "Urban       1625\n",
      "Name: ride_id, dtype: int64\n",
      "2375\n"
     ]
    }
   ],
   "source": [
    "# Get the sum of the rides for each city type.\n",
    "sum_rides_by_type = pyber_data_df.groupby([\"type\"]).count()[\"ride_id\"]\n",
    "sum_rides_by_type\n",
    "\n",
    "total_rides_by_type = sum(pyber_data_df.groupby([\"type\"]).count()[\"ride_id\"])\n",
    "total_rides_by_type\n",
    "\n",
    "total_rides_percentage = sum_rides_by_type/total_rides_by_type*100\n",
    "total_rides_percentage\n",
    "\n",
    "#  Build the percentage of fares by city type pie chart.\n",
    "plt.pie(total_rides_percentage, labels=[\"Rural\", \"Suburban\", \"Urban\"],\n",
    "        colors=[\"gold\", \"lightskyblue\", \"lightcoral\"],\n",
    "    explode=[0, 0, 0.1],\n",
    "    autopct='%1.1f%%',\n",
    "    shadow=True, startangle=150)\n",
    "plt.title(\"% of Total Rides by City Type\")\n",
    "\n",
    "# Import mpl to change the plot configurations using rcParams.\n",
    "import matplotlib as mpl\n",
    "\n",
    "# Change the default font size from 10 to 14.\n",
    "mpl.rcParams['font.size'] = 20\n",
    "# Save Figure\n",
    "plt.savefig(\"analysis/Fig7.png\")\n",
    "sum_rides_by_type\n",
    "\n",
    "plt.show()\n",
    "\n",
    "print(sum_rides_by_type)\n",
    "print(total_rides_by_type)"
   ]
  }
 ],
 "metadata": {
  "kernelspec": {
   "display_name": "PythonData",
   "language": "python",
   "name": "pythondata"
  },
  "language_info": {
   "codemirror_mode": {
    "name": "ipython",
    "version": 3
   },
   "file_extension": ".py",
   "mimetype": "text/x-python",
   "name": "python",
   "nbconvert_exporter": "python",
   "pygments_lexer": "ipython3",
   "version": "3.9.12"
  }
 },
 "nbformat": 4,
 "nbformat_minor": 5
}
